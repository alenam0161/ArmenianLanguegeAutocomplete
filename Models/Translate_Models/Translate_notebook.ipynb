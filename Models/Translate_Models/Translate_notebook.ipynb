{
 "cells": [
  {
   "cell_type": "code",
   "execution_count": 10,
   "metadata": {},
   "outputs": [],
   "source": [
    "import os\n",
    "import streamlit as st\n",
    "import torch\n",
    "import string\n",
    "import pynput\n",
    "from transformers import BertTokenizer, BertForMaskedLM\n",
    "from pynput import keyboard\n",
    "import translators as ts\n",
    "\n",
    "# Initial tok_k : number of suggestions\n",
    "top_k = 5\n",
    "\n",
    "def decode(tokenizer, pred_idx, top_clean):\n",
    "  \"\"\"This is for predictions to back from numbers to words\n",
    "\n",
    "  Args:\n",
    "      tokenizer (BertTokenizer): tokenizer of Bert\n",
    "      pred_idx (list): list of predicted word indexis\n",
    "      top_clean (int): number of top words\n",
    "\n",
    "  Returns:\n",
    "      string: all decoded words\n",
    "  \"\"\"\n",
    "  ignore_tokens = string.punctuation + '[PAD]'\n",
    "  tokens = []\n",
    "  for w in pred_idx:\n",
    "    token = ''.join(tokenizer.decode(w).split())\n",
    "    if token not in ignore_tokens:\n",
    "      tokens.append(token.replace('##', ''))\n",
    "  return '\\n'.join(tokens[:top_clean])"
   ]
  },
  {
   "cell_type": "code",
   "execution_count": 11,
   "metadata": {},
   "outputs": [],
   "source": [
    "def encode(tokenizer, text_sentence, add_special_tokens=True):\n",
    "  \"\"\"encode words to indexes\n",
    "\n",
    "  Args:\n",
    "      tokenizer (BertTokenizer): tokenizer\n",
    "      text_sentence (string): input string\n",
    "      add_special_tokens (bool, optional): special tokens for sentence and words. Defaults to True.\n",
    "\n",
    "  Returns:\n",
    "      tuple(torch.tensor,torch.tensor): input and mask ids, which are inputs for transformer\n",
    "      and which are the masked positions need to be predicted\n",
    "  \"\"\"\n",
    "  text_sentence = text_sentence.replace('<mask>', tokenizer.mask_token)\n",
    "    # if <mask> is the last token, append a \".\" so that models dont predict punctuation.\n",
    "  if tokenizer.mask_token == text_sentence.split()[-1]:\n",
    "    text_sentence += ' .'\n",
    "\n",
    "    input_ids = torch.tensor([tokenizer.encode(text_sentence, add_special_tokens=add_special_tokens)])\n",
    "    mask_idx = torch.where(input_ids == tokenizer.mask_token_id)[1].tolist()[0]\n",
    "  return input_ids, mask_idx\n"
   ]
  },
  {
   "cell_type": "code",
   "execution_count": 12,
   "metadata": {},
   "outputs": [],
   "source": [
    "def get_all_predictions(text_sentence, top_clean=5):\n",
    "  \"\"\"predicts mask tokens\n",
    "\n",
    "  Args:\n",
    "      text_sentence (string): string of input\n",
    "      top_clean (int, optional): number of words suggested. Defaults to 5.\n",
    "  \"\"\"\n",
    "\n",
    "  input_ids, mask_idx = encode(bert_tokenizer, text_sentence)\n",
    "\n",
    "  with torch.no_grad():\n",
    "    predict = bert_model(input_ids)[0]\n",
    "  bert = decode(bert_tokenizer, predict[0, mask_idx, :].topk(top_k).indices.tolist(), top_clean)\n",
    "  return {'bert': bert}"
   ]
  },
  {
   "cell_type": "code",
   "execution_count": 13,
   "metadata": {},
   "outputs": [],
   "source": [
    "\n",
    "def get_prediction_eos(input_text):\n",
    "  \"\"\"adds <mask> to token, predicts it, translates\n",
    "\n",
    "  Args:\n",
    "      input_text (string): row input\n",
    "\n",
    "  Returns:\n",
    "      dict: bert format predictions\n",
    "  \"\"\"\n",
    "  try:\n",
    "    result = ts.google(input_text,to_language='en')\n",
    "\n",
    "    result += ' <mask>'\n",
    "    res = get_all_predictions(result, top_clean=int(5))\n",
    "\n",
    "    fin_result = dict()\n",
    "    \n",
    "    model_name = list(res.keys())[0]\n",
    "    for i in res[model_name].split(\"\\n\"):\n",
    "\n",
    "        if model_name in fin_result:\n",
    "           fin_result[model_name]+='\\n'\n",
    "        else:\n",
    "           fin_result[model_name]=''\n",
    "\n",
    "        fin_result[model_name]+=ts.google(i, to_language='hy')\n",
    "\n",
    "    return fin_result\n",
    "  except Exception as error:\n",
    "    pass"
   ]
  },
  {
   "cell_type": "code",
   "execution_count": 14,
   "metadata": {},
   "outputs": [
    {
     "name": "stderr",
     "output_type": "stream",
     "text": [
      "Some weights of the model checkpoint at bert-base-uncased were not used when initializing BertForMaskedLM: ['cls.seq_relationship.bias', 'cls.seq_relationship.weight']\n",
      "- This IS expected if you are initializing BertForMaskedLM from the checkpoint of a model trained on another task or with another architecture (e.g. initializing a BertForSequenceClassification model from a BertForPreTraining model).\n",
      "- This IS NOT expected if you are initializing BertForMaskedLM from the checkpoint of a model that you expect to be exactly identical (initializing a BertForSequenceClassification model from a BertForSequenceClassification model).\n"
     ]
    }
   ],
   "source": [
    "# loading tokenizer and model\n",
    "bert_tokenizer = BertTokenizer.from_pretrained('bert-base-uncased')\n",
    "bert_model = BertForMaskedLM.from_pretrained('bert-base-uncased').eval()"
   ]
  },
  {
   "cell_type": "code",
   "execution_count": 15,
   "metadata": {},
   "outputs": [],
   "source": [
    "input_text = input(\"Input Text\")"
   ]
  },
  {
   "cell_type": "code",
   "execution_count": 16,
   "metadata": {},
   "outputs": [],
   "source": [
    "#get input text predictions\n",
    "res = get_prediction_eos(input_text)"
   ]
  },
  {
   "cell_type": "code",
   "execution_count": 17,
   "metadata": {},
   "outputs": [
    {
     "name": "stdout",
     "output_type": "stream",
     "text": [
      "['հեռու', 'անկայուն', 'դուրս', 'արագ', 'ներսի']\n"
     ]
    }
   ],
   "source": [
    "# find top_k words\n",
    "answer = []\n",
    "print(res['bert'].split(\"\\n\"))\n",
    "for i in res['bert'].split(\"\\n\"):\n",
    "    answer.append(i)"
   ]
  },
  {
   "cell_type": "code",
   "execution_count": null,
   "metadata": {},
   "outputs": [],
   "source": []
  }
 ],
 "metadata": {
  "interpreter": {
   "hash": "36cf16204b8548560b1c020c4e8fb5b57f0e4c58016f52f2d4be01e192833930"
  },
  "kernelspec": {
   "display_name": "Python 3.9.12 64-bit",
   "language": "python",
   "name": "python3"
  },
  "language_info": {
   "codemirror_mode": {
    "name": "ipython",
    "version": 3
   },
   "file_extension": ".py",
   "mimetype": "text/x-python",
   "name": "python",
   "nbconvert_exporter": "python",
   "pygments_lexer": "ipython3",
   "version": "3.9.12"
  },
  "orig_nbformat": 4
 },
 "nbformat": 4,
 "nbformat_minor": 2
}
