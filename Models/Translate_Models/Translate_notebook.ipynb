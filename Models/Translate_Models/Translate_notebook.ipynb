{
 "cells": [
  {
   "cell_type": "code",
   "execution_count": 1,
   "metadata": {},
   "outputs": [
    {
     "name": "stderr",
     "output_type": "stream",
     "text": [
      "2022-05-04 18:34:41.939 INFO    numexpr.utils: NumExpr defaulting to 8 threads.\n",
      "Using Armenia server backend.\n"
     ]
    }
   ],
   "source": [
    "import os\n",
    "import streamlit as st\n",
    "import torch\n",
    "import string\n",
    "import pynput\n",
    "from transformers import BertTokenizer, BertForMaskedLM\n",
    "from pynput import keyboard\n",
    "import translators as ts\n",
    "\n",
    "top_k = 5\n",
    "\n",
    "def decode(tokenizer, pred_idx, top_clean):\n",
    "  ignore_tokens = string.punctuation + '[PAD]'\n",
    "  tokens = []\n",
    "  for w in pred_idx:\n",
    "    token = ''.join(tokenizer.decode(w).split())\n",
    "    if token not in ignore_tokens:\n",
    "      tokens.append(token.replace('##', ''))\n",
    "  return '\\n'.join(tokens[:top_clean])"
   ]
  },
  {
   "cell_type": "code",
   "execution_count": 2,
   "metadata": {},
   "outputs": [],
   "source": [
    "def encode(tokenizer, text_sentence, add_special_tokens=True):\n",
    "  text_sentence = text_sentence.replace('<mask>', tokenizer.mask_token)\n",
    "    # if <mask> is the last token, append a \".\" so that models dont predict punctuation.\n",
    "  if tokenizer.mask_token == text_sentence.split()[-1]:\n",
    "    text_sentence += ' .'\n",
    "\n",
    "    input_ids = torch.tensor([tokenizer.encode(text_sentence, add_special_tokens=add_special_tokens)])\n",
    "    mask_idx = torch.where(input_ids == tokenizer.mask_token_id)[1].tolist()[0]\n",
    "  return input_ids, mask_idx\n"
   ]
  },
  {
   "cell_type": "code",
   "execution_count": 3,
   "metadata": {},
   "outputs": [],
   "source": [
    "def get_all_predictions(text_sentence, top_clean=5):\n",
    "    # ========================= BERT =================================\n",
    "  input_ids, mask_idx = encode(bert_tokenizer, text_sentence)\n",
    "  print(text_sentence)\n",
    "  with torch.no_grad():\n",
    "    predict = bert_model(input_ids)[0]\n",
    "  bert = decode(bert_tokenizer, predict[0, mask_idx, :].topk(top_k).indices.tolist(), top_clean)\n",
    "  return {'bert': bert}"
   ]
  },
  {
   "cell_type": "code",
   "execution_count": 4,
   "metadata": {},
   "outputs": [],
   "source": [
    "\n",
    "def get_prediction_eos(input_text):\n",
    "  try:\n",
    "    result = ts.google(input_text,to_language='en')\n",
    "    print(result)\n",
    "    result += ' <mask>'\n",
    "    res = get_all_predictions(result, top_clean=int(5))\n",
    "    print(res)\n",
    "    fin_result = dict()\n",
    "    \n",
    "    model_name = list(res.keys())[0]\n",
    "    for i in res[model_name].split(\"\\n\"):\n",
    "\n",
    "        if model_name in fin_result:\n",
    "           fin_result[model_name]+='\\n'\n",
    "        else:\n",
    "           fin_result[model_name]=''\n",
    "        print(i)\n",
    "        fin_result[model_name]+=ts.google(i, to_language='hy')\n",
    "\n",
    "    return fin_result\n",
    "  except Exception as error:\n",
    "    pass"
   ]
  },
  {
   "cell_type": "code",
   "execution_count": 5,
   "metadata": {},
   "outputs": [
    {
     "name": "stderr",
     "output_type": "stream",
     "text": [
      "Some weights of the model checkpoint at bert-base-uncased were not used when initializing BertForMaskedLM: ['cls.seq_relationship.bias', 'cls.seq_relationship.weight']\n",
      "- This IS expected if you are initializing BertForMaskedLM from the checkpoint of a model trained on another task or with another architecture (e.g. initializing a BertForSequenceClassification model from a BertForPreTraining model).\n",
      "- This IS NOT expected if you are initializing BertForMaskedLM from the checkpoint of a model that you expect to be exactly identical (initializing a BertForSequenceClassification model from a BertForSequenceClassification model).\n"
     ]
    }
   ],
   "source": [
    "bert_tokenizer = BertTokenizer.from_pretrained('bert-base-uncased')\n",
    "bert_model = BertForMaskedLM.from_pretrained('bert-base-uncased').eval()"
   ]
  },
  {
   "cell_type": "code",
   "execution_count": 6,
   "metadata": {},
   "outputs": [],
   "source": [
    "input_text = input(\"Hello world\")"
   ]
  },
  {
   "cell_type": "code",
   "execution_count": 7,
   "metadata": {},
   "outputs": [
    {
     "name": "stdout",
     "output_type": "stream",
     "text": [
      "Do you think good Nana?\n",
      "Do you think good Nana? <mask>\n",
      "{'bert': 'no\\nyes\\nmrs'}\n",
      "no\n",
      "yes\n",
      "mrs\n"
     ]
    }
   ],
   "source": [
    "res = get_prediction_eos(input_text)"
   ]
  },
  {
   "cell_type": "code",
   "execution_count": 8,
   "metadata": {},
   "outputs": [
    {
     "name": "stdout",
     "output_type": "stream",
     "text": [
      "['ոչ', 'այո', 'Տիկին']\n"
     ]
    }
   ],
   "source": [
    "answer = []\n",
    "print(res['bert'].split(\"\\n\"))\n",
    "for i in res['bert'].split(\"\\n\"):\n",
    "    answer.append(i)"
   ]
  },
  {
   "cell_type": "code",
   "execution_count": 9,
   "metadata": {},
   "outputs": [
    {
     "data": {
      "text/plain": [
       "'նրան'"
      ]
     },
     "execution_count": 9,
     "metadata": {},
     "output_type": "execute_result"
    }
   ],
   "source": [
    "ts.google(\"him\",to_language = 'hy')"
   ]
  },
  {
   "cell_type": "code",
   "execution_count": null,
   "metadata": {},
   "outputs": [],
   "source": []
  }
 ],
 "metadata": {
  "interpreter": {
   "hash": "36cf16204b8548560b1c020c4e8fb5b57f0e4c58016f52f2d4be01e192833930"
  },
  "kernelspec": {
   "display_name": "Python 3.9.12 64-bit",
   "language": "python",
   "name": "python3"
  },
  "language_info": {
   "codemirror_mode": {
    "name": "ipython",
    "version": 3
   },
   "file_extension": ".py",
   "mimetype": "text/x-python",
   "name": "python",
   "nbconvert_exporter": "python",
   "pygments_lexer": "ipython3",
   "version": "3.9.12"
  },
  "orig_nbformat": 4
 },
 "nbformat": 4,
 "nbformat_minor": 2
}
