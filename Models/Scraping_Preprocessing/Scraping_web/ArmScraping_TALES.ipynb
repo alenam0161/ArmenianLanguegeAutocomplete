{
 "cells": [
  {
   "cell_type": "code",
   "execution_count": 1,
   "id": "8ed2aee3",
   "metadata": {},
   "outputs": [],
   "source": [
    "import numpy as np\n",
    "import pandas as pd\n",
    "\n",
    "import requests \n",
    "from bs4 import BeautifulSoup \n",
    "from pprint import pprint\n",
    "import time\n",
    "import re"
   ]
  },
  {
   "cell_type": "code",
   "execution_count": 13,
   "id": "12bd2c59",
   "metadata": {},
   "outputs": [],
   "source": [
    "list_links = []\n",
    "\n",
    "url = \"http://www.tarntercum.ru/p/blog-page_16.html\"\n",
    "response=requests.get(url)\n",
    "page=response.content\n",
    "page=BeautifulSoup(page,'html.parser')\n",
    "hashtags_html=page.find_all('article')\n"
   ]
  },
  {
   "cell_type": "code",
   "execution_count": 14,
   "id": "caef9494",
   "metadata": {},
   "outputs": [],
   "source": [
    "list_links = []\n",
    "\n",
    "url = \"http://www.tarntercum.ru/p/blog-page_16.html\"\n",
    "response=requests.get(url)\n",
    "page=response.content\n",
    "page=BeautifulSoup(page,'html.parser')\n",
    "hashtags_html=page.find('article')\n"
   ]
  },
  {
   "cell_type": "code",
   "execution_count": 3,
   "id": "4d13f1ec",
   "metadata": {},
   "outputs": [],
   "source": [
    "\n",
    "new = []\n",
    "for i in hashtags_html:\n",
    "    new.append(str(i))\n",
    "    "
   ]
  },
  {
   "cell_type": "code",
   "execution_count": 4,
   "id": "0393dc7a",
   "metadata": {},
   "outputs": [
    {
     "name": "stdout",
     "output_type": "stream",
     "text": [
      "[['Դիքեն...', 'http://schema.org/BlogPosting', '1.6em', '6.75pt', '5.4pt', '73.6pt', 'http://www.tarntercum.ru/2017/07/agutagava-patmvacqner.html', 'http://www.tarntercum.ru/2017/06/vaxtang-ananyan-patmvacqner.html', 'http://www.tarntercum.ru/2018/12/shervud-anderson-patmvacqner.html', 'http://www.tarntercum.ru/2017/06/axasi-ayvazyan-patmvacqner.html', 'http://www.tarntercum.ru/2016/07/arpiaryan-qaniner-tesa.html', 'http://www.tarntercum.ru/2020/03/aksel-bakunc-patmvacqner.html', 'http://www.tarntercum.ru/2020/11/Haynrix-Byol-patmvacqner.html', 'http://www.tarntercum.ru/2016/07/xorxe-luis-borxes.html', 'http://www.tarntercum.ru/2018/10/wolfgang-borchert-arnetnery.html', 'http://www.tarntercum.ru/2020/12/rey-bredberi-patmvacqner.html', 'http://www.tarntercum.ru/2020/03/bukovski-qaxaqi-amenagexecik-kiny.html', 'http://www.tarntercum.ru/2018/05/derenik-demirchyan-patmvacqner.html', 'http://www.tarntercum.ru/2021/03/charlz-diqens-patmvacqner.html', 'http://www.tarntercum.ru/2016/08/alfons-dode-patmvacqner_6.html', 'http://www.tarntercum.ru/2020/12/dovlatov-patmvacqner.html', 'http://www.tarntercum.ru/2016/08/zohrap-novelner.html', 'http://www.tarntercum.ru/2017/03/stepan-zoryan-patmvacqner.html', 'http://www.tarntercum.ru/2019/03/marcel-eme-shuny.html', 'http://www.tarntercum.ru/2018/06/vahan-totovenc-patmvacqner.html', '5.4pt', '76.05pt', 'http://www.tarntercum.ru/2018/03/Isahakyan-patmvacqner.html', 'http://www.tarntercum.ru/2020/06/Jek-london-patmvacqner.html', 'http://www.tarntercum.ru/2017/06/franc-kafka-patmvacqner.html', 'http://www.tarntercum.ru/2018/02/konan-doil-sherlok-holms.html', 'http://www.tarntercum.ru/2017/06/kortasar-patmvacqner.html', 'http://www.tarntercum.ru/2017/05/knut-hamsun-patmvacqner.html', 'http://www.tarntercum.ru/2022/04/jaroslav-hashek-patmvacqner.html', 'http://www.tarntercum.ru/2018/04/ernest-heminguey-patmvacqner.html', 'http://www.tarntercum.ru/2020/05/herman-hesse-patmvacqner.html', '5.4pt', '72.15pt', 'http://www.tarntercum.ru/2020/05/hrant-matevosyan-patmvacqner.html', 'http://www.tarntercum.ru/2019/11/gabriel-markes-patmvacqner.html', 'http://www.tarntercum.ru/2020/02/mkrtich-armen-patmvacqner.html', 'http://www.tarntercum.ru/2019/06/hakob-mndzuri-krunk-usti-kugas.html', 'http://www.tarntercum.ru/2018/03/somerset-moem-patmvacqner.html', 'http://www.tarntercum.ru/2020/11/mopasan-patmvacqner.html', 'http://www.tarntercum.ru/2017/12/blog-post_25.html', 'http://www.tarntercum.ru/2018/05/muracan-patmvacqner.html', 'http://www.tarntercum.ru/2018/06/blog-post_13.html', 'http://www.tarntercum.ru/2016/06/blog-post_26.html', 'http://www.tarntercum.ru/2017/12/anton-chexov-patmvacqner.html', 'http://www.tarntercum.ru/2022/04/palanik-axiqner.html', 'http://www.tarntercum.ru/2017/12/vardges-petrosian-patmvacqner.html', 'http://www.tarntercum.ru/2017/08/edgar-alan-po-patmvacqner.html', 'http://www.tarntercum.ru/2016/12/jeyms-joys-dublinciner.html', 'http://www.tarntercum.ru/2017/05/sagan-mi-ereko.html', 'http://www.tarntercum.ru/2016/08/saroyan-patmvacqner.html', 'http://www.tarntercum.ru/2019/12/selinjer-patmvacqner.html', 'http://www.tarntercum.ru/2019/11/Jon-stainbeq-patmvacqner.html', 'http://www.tarntercum.ru/2017/12/vilkinson-patmutyun.html', 'http://www.tarntercum.ru/2020/03/kurt-vonegut-patmvacqner.html', '5.4pt', '70.85pt', 'http://www.tarntercum.ru/2022/04/turgenev-mumu.html', 'http://www.tarntercum.ru/2017/08/vrtanes-papazyan-patmvacqner.html', 'http://www.tarntercum.ru/2016/12/blog-post_66.html', 'http://www.tarntercum.ru/2018/01/otian-patmvacqner.html', 'http://www.tarntercum.ru/2018/11/ficjerald-patmvacqner.html', 'http://www.tarntercum.ru/2017/12/folqner-patmvacqner.html']]\n"
     ]
    }
   ],
   "source": [
    "urls= []\n",
    "for i in new:\n",
    "    urls.append(re.findall('(?:(?:https?|ftp):\\/\\/)?[\\w/\\-?=%.]+\\.[\\w/\\-?=%.]+', i))\n",
    "\n",
    "urls = [ele for ele in urls if ele != []]\n",
    "print(urls)\n"
   ]
  },
  {
   "cell_type": "code",
   "execution_count": 6,
   "id": "9d8c3a94",
   "metadata": {},
   "outputs": [],
   "source": [
    "urls = [item for sublist in urls for item in sublist]"
   ]
  },
  {
   "cell_type": "code",
   "execution_count": 48,
   "id": "891650b9",
   "metadata": {},
   "outputs": [],
   "source": [
    "#removed = [ '5.4pt',\n",
    " #'70.85pt', '5.4pt',\n",
    " #'72.15pt', '5.4pt',\n",
    " #'76.05pt',]\n",
    "#for i in removed:\n",
    " #   urls.remove(i)"
   ]
  },
  {
   "cell_type": "code",
   "execution_count": 100,
   "id": "508ded3d",
   "metadata": {},
   "outputs": [],
   "source": []
  },
  {
   "cell_type": "code",
   "execution_count": 8,
   "id": "6db62738",
   "metadata": {},
   "outputs": [],
   "source": [
    "other = ['http://www.tarntercum.ru/2016/07/arpiaryan-qaniner-tesa.html',\n",
    "        'http://www.tarntercum.ru/2018/10/wolfgang-borchert-arnetnery.html',\n",
    "         'http://www.tarntercum.ru/2020/03/bukovski-qaxaqi-amenagexecik-kiny.html',\n",
    "         'http://www.tarntercum.ru/2019/03/marcel-eme-shuny.html',\n",
    "         'http://www.tarntercum.ru/2019/06/hakob-mndzuri-krunk-usti-kugas.html',\n",
    "         'http://www.tarntercum.ru/2017/05/sagan-mi-ereko.html',\n",
    "         'http://www.tarntercum.ru/2016/06/blog-post_26.html',\n",
    "         'http://www.tarntercum.ru/2016/12/blog-post_66.html',]"
   ]
  },
  {
   "cell_type": "code",
   "execution_count": 5,
   "id": "67c8b13a",
   "metadata": {},
   "outputs": [],
   "source": [
    "urls = ['http://www.tarntercum.ru/2017/07/agutagava-patmvacqner.html',\n",
    " 'http://www.tarntercum.ru/2017/06/vaxtang-ananyan-patmvacqner.html',\n",
    " 'http://www.tarntercum.ru/2018/12/shervud-anderson-patmvacqner.html',\n",
    " 'http://www.tarntercum.ru/2017/06/axasi-ayvazyan-patmvacqner.html',\n",
    " 'http://www.tarntercum.ru/2020/03/aksel-bakunc-patmvacqner.html',\n",
    " 'http://www.tarntercum.ru/2020/11/Haynrix-Byol-patmvacqner.html',\n",
    " 'http://www.tarntercum.ru/2016/07/xorxe-luis-borxes.html',\n",
    " 'http://www.tarntercum.ru/2020/12/rey-bredberi-patmvacqner.html',\n",
    " 'http://www.tarntercum.ru/2018/05/derenik-demirchyan-patmvacqner.html',\n",
    " 'http://www.tarntercum.ru/2021/03/charlz-diqens-patmvacqner.html',\n",
    " 'http://www.tarntercum.ru/2016/08/alfons-dode-patmvacqner_6.html',\n",
    " 'http://www.tarntercum.ru/2020/12/dovlatov-patmvacqner.html',\n",
    " 'http://www.tarntercum.ru/2016/08/zohrap-novelner.html',\n",
    " 'http://www.tarntercum.ru/2017/03/stepan-zoryan-patmvacqner.html',\n",
    " 'http://www.tarntercum.ru/2018/06/vahan-totovenc-patmvacqner.html',\n",
    " 'http://www.tarntercum.ru/2018/03/Isahakyan-patmvacqner.html',\n",
    " 'http://www.tarntercum.ru/2020/06/Jek-london-patmvacqner.html',\n",
    " 'http://www.tarntercum.ru/2017/06/franc-kafka-patmvacqner.html',\n",
    " 'http://www.tarntercum.ru/2018/02/konan-doil-sherlok-holms.html',\n",
    " 'http://www.tarntercum.ru/2017/06/kortasar-patmvacqner.html',\n",
    " 'http://www.tarntercum.ru/2017/05/knut-hamsun-patmvacqner.html',\n",
    " 'http://www.tarntercum.ru/2018/04/ernest-heminguey-patmvacqner.html',\n",
    " 'http://www.tarntercum.ru/2020/05/herman-hesse-patmvacqner.html',\n",
    " 'http://www.tarntercum.ru/2020/05/hrant-matevosyan-patmvacqner.html',\n",
    " 'http://www.tarntercum.ru/2019/11/gabriel-markes-patmvacqner.html',\n",
    " 'http://www.tarntercum.ru/2020/02/mkrtich-armen-patmvacqner.html',\n",
    " 'http://www.tarntercum.ru/2018/03/somerset-moem-patmvacqner.html',\n",
    " 'http://www.tarntercum.ru/2020/11/mopasan-patmvacqner.html',\n",
    " 'http://www.tarntercum.ru/2017/12/blog-post_25.html',\n",
    " 'http://www.tarntercum.ru/2018/05/muracan-patmvacqner.html',\n",
    " 'http://www.tarntercum.ru/2018/06/blog-post_13.html',\n",
    " 'http://www.tarntercum.ru/2017/12/anton-chexov-patmvacqner.html',\n",
    " 'http://www.tarntercum.ru/2017/12/vardges-petrosian-patmvacqner.html',\n",
    " 'http://www.tarntercum.ru/2017/08/edgar-alan-po-patmvacqner.html',\n",
    " 'http://www.tarntercum.ru/2016/12/jeyms-joys-dublinciner.html',\n",
    " 'http://www.tarntercum.ru/2016/08/saroyan-patmvacqner.html',\n",
    " 'http://www.tarntercum.ru/2019/12/selinjer-patmvacqner.html',\n",
    " 'http://www.tarntercum.ru/2019/11/Jon-stainbeq-patmvacqner.html',\n",
    " 'http://www.tarntercum.ru/2017/12/vilkinson-patmutyun.html',\n",
    " 'http://www.tarntercum.ru/2020/03/kurt-vonegut-patmvacqner.html',\n",
    " 'http://www.tarntercum.ru/2017/08/vrtanes-papazyan-patmvacqner.html',\n",
    " 'http://www.tarntercum.ru/2018/01/otian-patmvacqner.html',\n",
    " 'http://www.tarntercum.ru/2018/11/ficjerald-patmvacqner.html',\n",
    " 'http://www.tarntercum.ru/2017/12/folqner-patmvacqner.html']"
   ]
  },
  {
   "cell_type": "code",
   "execution_count": 6,
   "id": "a3bbef3a",
   "metadata": {},
   "outputs": [],
   "source": [
    "new_urls = []\n",
    "list_links = []\n",
    "for i in range(0,len(urls)):\n",
    "    url = urls[i]\n",
    "    response=requests.get(url)\n",
    "    page=response.content\n",
    "    page=BeautifulSoup(page,'html.parser')\n",
    "    hashtags_html=page.find_all('article')\n",
    "    new2 = []\n",
    "    for i in hashtags_html:\n",
    "        new2.append(str(i))\n",
    "    for i in new2:\n",
    "        new_urls.append(re.findall('(?:(?:https?|ftp):\\/\\/)?[\\w/\\-?=%.]+\\.[\\w/\\-?=%.]+', i))\n",
    "\n"
   ]
  },
  {
   "cell_type": "code",
   "execution_count": 7,
   "id": "ab194473",
   "metadata": {},
   "outputs": [],
   "source": [
    "final_urls = []\n",
    "for i in new_urls:\n",
    "    for j in i:\n",
    "        final_urls.append(j)\n",
    "        \n",
    "        \n",
    "        "
   ]
  },
  {
   "cell_type": "code",
   "execution_count": 8,
   "id": "6a354826",
   "metadata": {},
   "outputs": [],
   "source": [
    "final_urls=  [link for link in final_urls if link.startswith('http://www.tarntercum.ru')]"
   ]
  },
  {
   "cell_type": "code",
   "execution_count": 24,
   "id": "5ad7a549",
   "metadata": {},
   "outputs": [],
   "source": [
    "hashtags = []\n",
    "for  i in range(0, len(final_urls)):\n",
    "    url = final_urls[i]\n",
    "    response=requests.get(url)\n",
    "    page=response.content\n",
    "    page=BeautifulSoup(page,'html.parser')\n",
    "    hashtags_html=page.find_all('div', class_ =\"MsoNormal\")\n",
    "    hashtags.append([i.get_text() for i in hashtags_html]) \n"
   ]
  },
  {
   "cell_type": "code",
   "execution_count": 27,
   "id": "94eb1eee",
   "metadata": {},
   "outputs": [],
   "source": [
    "hashtags = [item for sublist in hashtags for item in sublist]\n"
   ]
  },
  {
   "cell_type": "code",
   "execution_count": 30,
   "id": "406d61bd",
   "metadata": {},
   "outputs": [],
   "source": [
    "x = hashtags"
   ]
  },
  {
   "cell_type": "code",
   "execution_count": 31,
   "id": "9de6fbab",
   "metadata": {},
   "outputs": [],
   "source": [
    "x = [re.sub('\\n', '', i) for i in x]\n",
    "x = [re.sub('-', '', i) for i in x]\n",
    "x = [re.sub(r'[0-9]', '', i) for i in x]\n",
    "x = re.sub(\"[\\(\\[\\«].*?[\\)\\]\\»]\", \" \", for i in x)\n",
    "x = x.replace('²',' քառակուսի')\n",
    "x = x.replace('³',' խորանարդ')\n",
    "x= re.sub(\"[^\\u0561-\\u0587\\u0531-\\u0556\\ ։]+\",' ',x)"
   ]
  },
  {
   "cell_type": "code",
   "execution_count": 33,
   "id": "56731ec7",
   "metadata": {},
   "outputs": [],
   "source": [
    "x = [re.sub(r'[0-9]', '', i) for i in x]\n",
    "x = [re.sub(\"[\\(\\[\\«].*?[\\)\\]\\»]\", \" \",i) for i in x]\n",
    "x = [i.replace('²',' քառակուսի') for i in x]\n",
    "x = [i.replace('³',' խորանարդ') for i in x]\n",
    "x= [re.sub(\"[^\\u0561-\\u0587\\u0531-\\u0556\\ ։]+\",' ',i) for i in x]"
   ]
  },
  {
   "cell_type": "code",
   "execution_count": 42,
   "id": "b5380d1e",
   "metadata": {},
   "outputs": [],
   "source": [
    "text_file = open(\"ScrapedData_Tales.txt\", \"w\", encoding='UTF-8') \n",
    "for i in x:\n",
    "    if len(i)<5:\n",
    "        continue\n",
    "    y = i.strip()\n",
    "    text_file.write(\"%s:\\n\" % y.replace(\"\\n\",\"\").lstrip())"
   ]
  },
  {
   "cell_type": "code",
   "execution_count": null,
   "id": "12455560",
   "metadata": {},
   "outputs": [],
   "source": []
  },
  {
   "cell_type": "code",
   "execution_count": null,
   "id": "d9b1ab4c",
   "metadata": {},
   "outputs": [],
   "source": []
  }
 ],
 "metadata": {
  "kernelspec": {
   "display_name": "Python 3 (ipykernel)",
   "language": "python",
   "name": "python3"
  },
  "language_info": {
   "codemirror_mode": {
    "name": "ipython",
    "version": 3
   },
   "file_extension": ".py",
   "mimetype": "text/x-python",
   "name": "python",
   "nbconvert_exporter": "python",
   "pygments_lexer": "ipython3",
   "version": "3.7.4"
  }
 },
 "nbformat": 4,
 "nbformat_minor": 5
}
