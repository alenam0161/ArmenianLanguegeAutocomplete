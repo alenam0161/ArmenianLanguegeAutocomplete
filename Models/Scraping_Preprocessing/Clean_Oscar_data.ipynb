{
 "cells": [
  {
   "cell_type": "code",
   "execution_count": 4,
   "metadata": {},
   "outputs": [],
   "source": [
    "import requests\n",
    "from bs4 import BeautifulSoup\n",
    "import random\n",
    "import re\n",
    "from ArmScraping import *\n",
    "#from ArmScraping import Validate_corpus\n",
    "\n",
    "\n",
    "\n",
    "\n"
   ]
  },
  {
   "cell_type": "code",
   "execution_count": 2,
   "metadata": {},
   "outputs": [
    {
     "ename": "FileNotFoundError",
     "evalue": "[Errno 2] No such file or directory: '../Data/Oscar-Corpus_Armenian/'",
     "output_type": "error",
     "traceback": [
      "\u001b[0;31m---------------------------------------------------------------------------\u001b[0m",
      "\u001b[0;31mFileNotFoundError\u001b[0m                         Traceback (most recent call last)",
      "\u001b[1;32m/home/lazydog/Documents/AUA/MachineLearning/ArmenianLanguegeAutocomplete/Models/Scraping_Preprocessing/Clean_Oscar_data.ipynb Cell 2'\u001b[0m in \u001b[0;36m<cell line: 2>\u001b[0;34m()\u001b[0m\n\u001b[1;32m      <a href='vscode-notebook-cell:/home/lazydog/Documents/AUA/MachineLearning/ArmenianLanguegeAutocomplete/Models/Scraping_Preprocessing/Clean_Oscar_data.ipynb#ch0000001?line=0'>1</a>\u001b[0m \u001b[39mimport\u001b[39;00m \u001b[39mos\u001b[39;00m\n\u001b[0;32m----> <a href='vscode-notebook-cell:/home/lazydog/Documents/AUA/MachineLearning/ArmenianLanguegeAutocomplete/Models/Scraping_Preprocessing/Clean_Oscar_data.ipynb#ch0000001?line=1'>2</a>\u001b[0m os\u001b[39m.\u001b[39;49mlistdir(\u001b[39m'\u001b[39;49m\u001b[39m../Data/Oscar-Corpus_Armenian/\u001b[39;49m\u001b[39m'\u001b[39;49m)\n",
      "\u001b[0;31mFileNotFoundError\u001b[0m: [Errno 2] No such file or directory: '../Data/Oscar-Corpus_Armenian/'"
     ]
    }
   ],
   "source": [
    "import os\n",
    "os.listdir('../Data/Oscar-Corpus_Armenian/')"
   ]
  },
  {
   "cell_type": "code",
   "execution_count": 3,
   "metadata": {},
   "outputs": [],
   "source": [
    "BUF_SIZE = 1024\n",
    "bigfile = open('../Data/Oscar-Corpus_Armenian/hy_part_1.txt','r')\n",
    "tmp_lines = bigfile.readlines(BUF_SIZE)\n",
    "while tmp_lines:\n",
    "\n",
    "    with open('../Data/clean-oscar/hy_part_1.txt','a',encoding='UTF-8') as f:\n",
    "        \n",
    "        for each_corpus in tmp_lines:\n",
    "            \n",
    "            clean_text = Text_Cleaning(each_corpus)\n",
    "            \n",
    "            if not Validate_corpus(clean_text,each_corpus):\n",
    "                continue\n",
    "            \n",
    "            for each_sent in clean_text.split('։'):\n",
    "                \n",
    "                if len(each_sent)<5:\n",
    "                    continue\n",
    "                \n",
    "                break_spaces = each_sent.strip()\n",
    "                f.write(\"%s:\\n\" % break_spaces.replace(\"\\n\",\"\").lstrip())\n",
    "    tmp_lines = bigfile.readlines(BUF_SIZE)"
   ]
  },
  {
   "cell_type": "code",
   "execution_count": null,
   "metadata": {},
   "outputs": [],
   "source": []
  }
 ],
 "metadata": {
  "interpreter": {
   "hash": "36cf16204b8548560b1c020c4e8fb5b57f0e4c58016f52f2d4be01e192833930"
  },
  "kernelspec": {
   "display_name": "Python 3.9.12 64-bit",
   "language": "python",
   "name": "python3"
  },
  "language_info": {
   "codemirror_mode": {
    "name": "ipython",
    "version": 3
   },
   "file_extension": ".py",
   "mimetype": "text/x-python",
   "name": "python",
   "nbconvert_exporter": "python",
   "pygments_lexer": "ipython3",
   "version": "3.9.12"
  },
  "orig_nbformat": 4
 },
 "nbformat": 4,
 "nbformat_minor": 2
}
