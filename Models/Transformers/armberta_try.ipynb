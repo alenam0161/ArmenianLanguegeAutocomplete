{
 "cells": [
  {
   "cell_type": "markdown",
   "metadata": {},
   "source": [
    "\n",
    "Armeberta model which is bert trained on Armenian, but its task is not LM, just test performance\n"
   ]
  },
  {
   "cell_type": "code",
   "execution_count": 11,
   "metadata": {},
   "outputs": [],
   "source": [
    "from transformers import AutoModel, AutoConfig, AutoTokenizer"
   ]
  },
  {
   "cell_type": "code",
   "execution_count": 12,
   "metadata": {},
   "outputs": [],
   "source": [
    "model = AutoModel.from_pretrained(\"Violeta/ArmBERTa_Model\")"
   ]
  },
  {
   "cell_type": "code",
   "execution_count": 13,
   "metadata": {},
   "outputs": [],
   "source": [
    "tokenizer = AutoTokenizer.from_pretrained(\"Violeta/ArmBERTa_Model\")"
   ]
  },
  {
   "cell_type": "code",
   "execution_count": 15,
   "metadata": {},
   "outputs": [
    {
     "name": "stderr",
     "output_type": "stream",
     "text": [
      "Some weights of RobertaForMaskedLM were not initialized from the model checkpoint at Violeta/ArmBERTa_Model and are newly initialized: ['lm_head.layer_norm.weight', 'lm_head.dense.bias', 'lm_head.layer_norm.bias', 'lm_head.bias', 'lm_head.dense.weight']\n",
      "You should probably TRAIN this model on a down-stream task to be able to use it for predictions and inference.\n"
     ]
    }
   ],
   "source": [
    "from transformers import pipeline\n",
    "\n",
    "fill_mask = pipeline(\n",
    "    \"fill-mask\",\n",
    "    model=\"Violeta/ArmBERTa_Model\",\n",
    "    tokenizer=\"Violeta/ArmBERTa_Model\"\n",
    ")"
   ]
  },
  {
   "cell_type": "code",
   "execution_count": 16,
   "metadata": {},
   "outputs": [
    {
     "data": {
      "text/plain": [
       "[[{'score': 0.0005100556300021708,\n",
       "   'token': 1341,\n",
       "   'token_str': ' ձեր',\n",
       "   'sequence': '<s>Ես ձեր<mask> տուն</s>'},\n",
       "  {'score': 0.0003087611694354564,\n",
       "   'token': 3533,\n",
       "   'token_str': ' գործարար',\n",
       "   'sequence': '<s>Ես գործարար<mask> տուն</s>'},\n",
       "  {'score': 0.00029154139338061213,\n",
       "   'token': 4551,\n",
       "   'token_str': ' անմիջապես',\n",
       "   'sequence': '<s>Ես անմիջապես<mask> տուն</s>'},\n",
       "  {'score': 0.0002868246228899807,\n",
       "   'token': 1016,\n",
       "   'token_str': ' ցանկ',\n",
       "   'sequence': '<s>Ես ցանկ<mask> տուն</s>'},\n",
       "  {'score': 0.00026499477098695934,\n",
       "   'token': 4565,\n",
       "   'token_str': ' 60',\n",
       "   'sequence': '<s>Ես 60<mask> տուն</s>'}],\n",
       " [{'score': 0.0006017157575115561,\n",
       "   'token': 1762,\n",
       "   'token_str': ' Իսկ',\n",
       "   'sequence': '<s>Ես<mask> Իսկ տուն</s>'},\n",
       "  {'score': 0.00038469021092168987,\n",
       "   'token': 334,\n",
       "   'token_str': 'լ',\n",
       "   'sequence': '<s>Ես<mask>լ տուն</s>'},\n",
       "  {'score': 0.0003685454139485955,\n",
       "   'token': 372,\n",
       "   'token_str': 'խ',\n",
       "   'sequence': '<s>Ես<mask>խ տուն</s>'},\n",
       "  {'score': 0.0003637826885096729,\n",
       "   'token': 1341,\n",
       "   'token_str': ' ձեր',\n",
       "   'sequence': '<s>Ես<mask> ձեր տուն</s>'},\n",
       "  {'score': 0.00036076694959774613,\n",
       "   'token': 885,\n",
       "   'token_str': ' եք',\n",
       "   'sequence': '<s>Ես<mask> եք տուն</s>'}]]"
      ]
     },
     "execution_count": 16,
     "metadata": {},
     "output_type": "execute_result"
    }
   ],
   "source": [
    "fill_mask(\"Ես <mask> <mask> տուն\")"
   ]
  },
  {
   "cell_type": "code",
   "execution_count": null,
   "metadata": {},
   "outputs": [],
   "source": []
  },
  {
   "cell_type": "code",
   "execution_count": null,
   "metadata": {},
   "outputs": [],
   "source": []
  }
 ],
 "metadata": {
  "interpreter": {
   "hash": "36cf16204b8548560b1c020c4e8fb5b57f0e4c58016f52f2d4be01e192833930"
  },
  "kernelspec": {
   "display_name": "Python 3.9.12 64-bit",
   "language": "python",
   "name": "python3"
  },
  "language_info": {
   "codemirror_mode": {
    "name": "ipython",
    "version": 3
   },
   "file_extension": ".py",
   "mimetype": "text/x-python",
   "name": "python",
   "nbconvert_exporter": "python",
   "pygments_lexer": "ipython3",
   "version": "3.9.12"
  },
  "orig_nbformat": 4
 },
 "nbformat": 4,
 "nbformat_minor": 2
}
